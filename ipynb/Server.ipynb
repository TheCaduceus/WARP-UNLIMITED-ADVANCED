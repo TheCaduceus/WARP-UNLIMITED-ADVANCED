{
  "cells": [
    {
      "cell_type": "markdown",
      "metadata": {
        "id": "MIem627NYSoe"
      },
      "source": [
        "**Enter WARP CLIENT ID:**"
      ]
    },
    {
      "cell_type": "code",
      "execution_count": null,
      "metadata": {
        "id": "u-iCa939Vv5C"
      },
      "outputs": [],
      "source": [
        "!pip install httpx\n",
        "\n",
        "from datetime import datetime\n",
        "from json import dumps\n",
        "from random import choice, randint\n",
        "from string import ascii_letters, digits\n",
        "from time import sleep\n",
        "import httpx\n",
        "\n",
        "WARP_CLIENT_ID = input(\"Enter your WARP Client ID:\\n\")\n",
        "\n",
        "# Defaults\n",
        "SUCCESS_COUNT, FAIL_COUNT = 0, 0\n",
        "\n",
        "def genString(stringLength):\n",
        "  try:\n",
        "    letters = ascii_letters + digits\n",
        "    return ''.join(choice(letters) for _ in range(stringLength))\n",
        "  except Exception as error_code:\n",
        "    print(error_code)\n",
        "\n",
        "def digitString(stringLength):\n",
        "  try:\n",
        "    digit = digits\n",
        "    return ''.join(choice(digit) for _ in range(stringLength))\n",
        "  except Exception as error_code:\n",
        "    print(error_code)\n",
        "\n",
        "url = f\"https://api.cloudflareclient.com/v0a{digitString(3)}/reg\"\n",
        "\n",
        "while True:\n",
        "  try:\n",
        "    install_id = genString(22)\n",
        "    body = {\n",
        "      \"key\": f\"{genString(43)}=\",\n",
        "      \"install_id\": install_id,\n",
        "      \"fcm_token\": f\"{install_id}:APA91b{genString(134)}\",\n",
        "      \"referrer\": WARP_CLIENT_ID,\n",
        "      \"warp_enabled\": False,\n",
        "      \"tos\": f\"{datetime.now().isoformat()[:-3]}+02:00\",\n",
        "      \"type\": \"Android\",\n",
        "      \"locale\": \"es_ES\"\n",
        "    }\n",
        "    data = dumps(body).encode(\"utf8\")\n",
        "    headers = {\n",
        "      \"Content-Type\": \"application/json; charset=UTF-8\",\n",
        "      \"Host\": \"api.cloudflareclient.com\",\n",
        "      \"Connection\": \"Keep-Alive\",\n",
        "      \"Accept-Encoding\": \"gzip\",\n",
        "      \"User-Agent\": \"okhttp/3.12.1\"\n",
        "    }\n",
        "    response = httpx.post(url, data=data, headers=headers).status_code\n",
        "  except Exception as error_code:\n",
        "    print(error_code)\n",
        "\n",
        "  if response == 200:\n",
        "    SUCCESS_COUNT += 1\n",
        "    print(f\"PASSED: +1GB (total: {SUCCESS_COUNT}GB, failed: {FAIL_COUNT})\")\n",
        "  else:\n",
        "    print(f\"FAILED: {response}\")\n",
        "    FAIL_COUNT += 1\n",
        "  \n",
        "  # Cooldown\n",
        "  cooldown_time = randint(30,50)\n",
        "  print(f\"Sleep: {cooldown_time} seconds.\")\n",
        "  sleep(cooldown_time)"
      ]
    }
  ],
  "metadata": {
    "colab": {
      "provenance": []
    },
    "kernelspec": {
      "display_name": "Python 3",
      "language": "python",
      "name": "python3"
    },
    "language_info": {
      "name": "python",
      "version": "3.10.7 (tags/v3.10.7:6cc6b13, Sep  5 2022, 14:08:36) [MSC v.1933 64 bit (AMD64)]"
    },
    "vscode": {
      "interpreter": {
        "hash": "8a5edab282632443219e051e4ade2d1d5bbc671c781051bf1437897cbdfea0f1"
      }
    }
  },
  "nbformat": 4,
  "nbformat_minor": 0
}